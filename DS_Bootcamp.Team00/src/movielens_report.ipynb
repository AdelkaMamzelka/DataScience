{
 "cells": [
  {
   "cell_type": "markdown",
   "id": "b1c281c8",
   "metadata": {},
   "source": [
    "## MovieLens dataset report"
   ]
  },
  {
   "cell_type": "code",
   "execution_count": 1,
   "id": "9cb0d317",
   "metadata": {},
   "outputs": [],
   "source": [
    "from movielens_analysis import Ratings, Tags, Movies, Links\n",
    "\n",
    "tags = Tags(\"ml-latest-small/tags.csv\")\n",
    "movies = Movies(\"ml-latest-small/movies.csv\")\n",
    "ratings = Ratings(\"ml-latest-small/ratings.csv\", movies.movies)\n",
    "links = Links(\"ml-latest-small/links.csv\", dict(list(movies.movies.items())[:18]))"
   ]
  },
  {
   "cell_type": "markdown",
   "id": "c5c1a91e",
   "metadata": {},
   "source": [
    "## class Ratings:"
   ]
  },
  {
   "cell_type": "markdown",
   "id": "7c8871ec",
   "metadata": {},
   "source": [
    "### nested class Movies:\n",
    "### def dist_by_year():\n",
    "- количество рейтингов на фильмы по годам.\n",
    "\n",
    "По данному распределению видно, что пики \"популярности\" просмотра фильмов были в 2000, в 2007 и в 2015-2018 годах - именно в эти годы были мировые экономические кризисы.\n",
    "\n",
    "Есть основание предположить, что просмотр фильмов помогает людям отвлечься от окружающих проблем в тяжелые времена."
   ]
  },
  {
   "cell_type": "code",
   "execution_count": 3,
   "id": "1a06c8b5",
   "metadata": {},
   "outputs": [
    {
     "name": "stdout",
     "output_type": "stream",
     "text": [
      "278 ns ± 16.1 ns per loop (mean ± std. dev. of 10 runs, 1,000,000 loops each)\n"
     ]
    },
    {
     "data": {
      "text/plain": [
       "{1996: 6040,\n",
       " 1997: 1916,\n",
       " 1998: 507,\n",
       " 1999: 2439,\n",
       " 2000: 10061,\n",
       " 2001: 3922,\n",
       " 2002: 3478,\n",
       " 2003: 4014,\n",
       " 2004: 3279,\n",
       " 2005: 5813,\n",
       " 2006: 4059,\n",
       " 2007: 7114,\n",
       " 2008: 4351,\n",
       " 2009: 4158,\n",
       " 2010: 2301,\n",
       " 2011: 1690,\n",
       " 2012: 4656,\n",
       " 2013: 1664,\n",
       " 2014: 1438,\n",
       " 2015: 6616,\n",
       " 2016: 6701,\n",
       " 2017: 8197,\n",
       " 2018: 6405}"
      ]
     },
     "execution_count": 3,
     "metadata": {},
     "output_type": "execute_result"
    }
   ],
   "source": [
    "%timeit -r 10 ratings.movies.dist_by_year()\n",
    "ratings.movies.dist_by_year()"
   ]
  },
  {
   "cell_type": "markdown",
   "id": "bf20baa9",
   "metadata": {},
   "source": [
    "### def dist_by_rating():\n",
    "- количество рейтингов по значению.\n",
    "\n",
    "По данному распределению видно, что практически половина оценок с рейтингом 4.0 и выше."
   ]
  },
  {
   "cell_type": "code",
   "execution_count": 4,
   "id": "6a60a34e",
   "metadata": {},
   "outputs": [
    {
     "name": "stdout",
     "output_type": "stream",
     "text": [
      "269 ns ± 6.47 ns per loop (mean ± std. dev. of 10 runs, 1,000,000 loops each)\n"
     ]
    },
    {
     "data": {
      "text/plain": [
       "{0.5: 1369,\n",
       " 1.0: 2810,\n",
       " 1.5: 1791,\n",
       " 2.0: 7550,\n",
       " 2.5: 5550,\n",
       " 3.0: 20044,\n",
       " 3.5: 13134,\n",
       " 4.0: 26815,\n",
       " 4.5: 8549,\n",
       " 5.0: 13207}"
      ]
     },
     "execution_count": 4,
     "metadata": {},
     "output_type": "execute_result"
    }
   ],
   "source": [
    "%timeit -r 10 ratings.movies.dist_by_rating()\n",
    "ratings.movies.dist_by_rating()"
   ]
  },
  {
   "cell_type": "markdown",
   "id": "3f89deed",
   "metadata": {},
   "source": [
    "### def top_by_num_of_ratings():\n",
    "- топ фильмов по количеству оценок."
   ]
  },
  {
   "cell_type": "code",
   "execution_count": 28,
   "id": "dc9cd468",
   "metadata": {},
   "outputs": [
    {
     "name": "stdout",
     "output_type": "stream",
     "text": [
      "2.85 ms ± 139 μs per loop (mean ± std. dev. of 10 runs, 100 loops each)\n"
     ]
    },
    {
     "data": {
      "text/plain": [
       "{'Forrest Gump': 329,\n",
       " 'Shawshank Redemption, The': 317,\n",
       " 'Pulp Fiction': 307,\n",
       " 'Silence of the Lambs, The': 279,\n",
       " 'Matrix, The': 278,\n",
       " 'Star Wars: Episode IV - A New Hope': 251,\n",
       " 'Jurassic Park': 238,\n",
       " 'Braveheart': 237,\n",
       " 'Terminator 2: Judgment Day': 224,\n",
       " \"Schindler's List\": 220,\n",
       " 'Fight Club': 218,\n",
       " 'Toy Story': 215,\n",
       " 'Star Wars: Episode V - The Empire Strikes Back': 211,\n",
       " 'Usual Suspects, The': 204,\n",
       " 'American Beauty': 204}"
      ]
     },
     "execution_count": 28,
     "metadata": {},
     "output_type": "execute_result"
    }
   ],
   "source": [
    "%timeit -r 10 ratings.movies.top_by_num_of_ratings(15)\n",
    "ratings.movies.top_by_num_of_ratings(15)"
   ]
  },
  {
   "cell_type": "markdown",
   "id": "a35578b1",
   "metadata": {},
   "source": [
    "### def top_by_ratings():\n",
    "- топ фильмов по рейтингу.\n",
    "\n",
    "Необходимо учитывать, что в данной выборке есть фильмы с единственными оценками.\n",
    "Поэтому надежность топ по рейтингу без учета количества оценок не отражает объективную оценку разумного количества пользователей."
   ]
  },
  {
   "cell_type": "code",
   "execution_count": 30,
   "id": "98094684",
   "metadata": {},
   "outputs": [
    {
     "name": "stdout",
     "output_type": "stream",
     "text": [
      "44 ms ± 3.96 ms per loop (mean ± std. dev. of 10 runs, 10 loops each)\n"
     ]
    },
    {
     "data": {
      "text/plain": [
       "{'The Jinx: The Life and Deaths of Robert Durst': 5.0,\n",
       " 'Galaxy of Terror (Quest)': 5.0,\n",
       " 'Alien Contamination': 5.0,\n",
       " \"I'm the One That I Want\": 5.0,\n",
       " 'Lesson Faust': 5.0,\n",
       " 'Assignment, The': 5.0,\n",
       " 'Mephisto': 5.0,\n",
       " 'Dylan Moran: Monster': 5.0,\n",
       " 'Bill Hicks: Revelations': 5.0,\n",
       " 'My Sassy Girl (Yeopgijeogin geunyeo)': 5.0,\n",
       " 'Strictly Sexual': 5.0,\n",
       " 'Story of Women (Affaire de femmes, Une)': 5.0,\n",
       " 'Passenger, The (Professione: reporter)': 5.0,\n",
       " 'Marriage of Maria Braun, The (Ehe der Maria Braun, Die)': 5.0,\n",
       " 'Lamerica': 5.0}"
      ]
     },
     "execution_count": 30,
     "metadata": {},
     "output_type": "execute_result"
    }
   ],
   "source": [
    "%timeit -r 10 ratings.movies.top_by_ratings(15)\n",
    "ratings.movies.top_by_ratings(15)"
   ]
  },
  {
   "cell_type": "markdown",
   "id": "9c7c0438",
   "metadata": {},
   "source": [
    "### def top_controversial():\n",
    "- топ фильмов по дисперсии (распределению оценок от среднего значения рейтинга фильма).\n",
    "\n",
    "Данный рейтинг показывает наиболее неоднозначно оцененные фильмы."
   ]
  },
  {
   "cell_type": "code",
   "execution_count": 31,
   "id": "aaa62535",
   "metadata": {},
   "outputs": [
    {
     "name": "stdout",
     "output_type": "stream",
     "text": [
      "106 ms ± 19 ms per loop (mean ± std. dev. of 10 runs, 10 loops each)\n"
     ]
    },
    {
     "data": {
      "text/plain": [
       "{\"Ivan's Childhood (a.k.a. My Name is Ivan) (Ivanovo detstvo)\": 5.06,\n",
       " 'Fanny and Alexander (Fanny och Alexander)': 5.06,\n",
       " 'Troll 2': 4.5,\n",
       " 'Lassie': 4.0,\n",
       " 'Oscar': 4.0,\n",
       " 'Zed & Two Noughts, A': 4.0,\n",
       " 'Kwaidan (Kaidan)': 4.0,\n",
       " 'Play Time (a.k.a. Playtime)': 3.72,\n",
       " 'Room, The': 3.56,\n",
       " 'Peeping Tom': 3.5,\n",
       " 'Opera': 3.5,\n",
       " 'Immortals': 3.39,\n",
       " 'Skin I Live In, The (La piel que habito)': 3.38,\n",
       " 'Host, The': 3.38,\n",
       " 'Phantasm II': 3.17}"
      ]
     },
     "execution_count": 31,
     "metadata": {},
     "output_type": "execute_result"
    }
   ],
   "source": [
    "%timeit -r 10 ratings.movies.top_controversial(15)\n",
    "ratings.movies.top_controversial(15)"
   ]
  },
  {
   "cell_type": "markdown",
   "id": "787e1f3c",
   "metadata": {},
   "source": [
    "### nested class Users:\n",
    "### def top_users_by_ratings_count():\n",
    "- топ пользователей по количеству оценок."
   ]
  },
  {
   "cell_type": "code",
   "execution_count": 8,
   "id": "af47a563",
   "metadata": {},
   "outputs": [
    {
     "name": "stdout",
     "output_type": "stream",
     "text": [
      "142 μs ± 30.3 μs per loop (mean ± std. dev. of 10 runs, 10,000 loops each)\n"
     ]
    },
    {
     "data": {
      "text/plain": [
       "{414: 2697, 599: 2477, 474: 2108, 448: 1863, 274: 1346}"
      ]
     },
     "execution_count": 8,
     "metadata": {},
     "output_type": "execute_result"
    }
   ],
   "source": [
    "%timeit -r 10 ratings.users.top_users_by_ratings_count(5)\n",
    "ratings.users.top_users_by_ratings_count(5)"
   ]
  },
  {
   "cell_type": "markdown",
   "id": "f3156108",
   "metadata": {},
   "source": [
    "### def top_users_by_ratings():\n",
    "- топ пользователей по среднему выставленному рейтингу."
   ]
  },
  {
   "cell_type": "code",
   "execution_count": 9,
   "id": "46aad077",
   "metadata": {},
   "outputs": [
    {
     "name": "stdout",
     "output_type": "stream",
     "text": [
      "4.57 ms ± 307 μs per loop (mean ± std. dev. of 10 runs, 100 loops each)\n"
     ]
    },
    {
     "data": {
      "text/plain": [
       "{53: 5.0, 251: 4.87, 515: 4.85, 25: 4.81, 30: 4.74}"
      ]
     },
     "execution_count": 9,
     "metadata": {},
     "output_type": "execute_result"
    }
   ],
   "source": [
    "%timeit -r 10 ratings.users.top_users_by_ratings(5)\n",
    "ratings.users.top_users_by_ratings(5)"
   ]
  },
  {
   "cell_type": "markdown",
   "id": "3b6ac6d3",
   "metadata": {},
   "source": [
    "### def top_users_controversial():\n",
    "- топ пользователей с неоднозначными оценками - с максимальным разбросом значений.\n",
    "\n",
    "Данные пользователи смотрят не только любимые фильмы."
   ]
  },
  {
   "cell_type": "code",
   "execution_count": 10,
   "id": "4d66ef64",
   "metadata": {},
   "outputs": [
    {
     "name": "stdout",
     "output_type": "stream",
     "text": [
      "71.5 ms ± 3.06 ms per loop (mean ± std. dev. of 10 runs, 10 loops each)\n"
     ]
    },
    {
     "data": {
      "text/plain": [
       "{3: 4.26, 461: 3.1, 55: 3.09, 259: 2.94, 329: 2.92}"
      ]
     },
     "execution_count": 10,
     "metadata": {},
     "output_type": "execute_result"
    }
   ],
   "source": [
    "%timeit -r 10 ratings.users.top_users_controversial(5)\n",
    "ratings.users.top_users_controversial(5)"
   ]
  },
  {
   "cell_type": "markdown",
   "id": "cf31ce28",
   "metadata": {},
   "source": [
    "## class Tags:"
   ]
  },
  {
   "cell_type": "markdown",
   "id": "4d0b15df",
   "metadata": {},
   "source": [
    "### def most_words():\n",
    "- теги с наибольшим количеством слов."
   ]
  },
  {
   "cell_type": "code",
   "execution_count": 11,
   "id": "86c109a5",
   "metadata": {},
   "outputs": [
    {
     "name": "stdout",
     "output_type": "stream",
     "text": [
      "1.52 ms ± 396 μs per loop (mean ± std. dev. of 10 runs, 1,000 loops each)\n"
     ]
    },
    {
     "data": {
      "text/plain": [
       "{'something for everyone in this one... saw it without and plan on seeing it with kids!': 16,\n",
       " 'the catholic church is the most corrupt organization in history': 10,\n",
       " 'villain nonexistent or not needed for good story': 8,\n",
       " '06 oscar nominated best movie - animation': 7,\n",
       " 'it was melodramatic and kind of dumb': 7,\n",
       " 'oscar (best effects - visual effects)': 6,\n",
       " 'stop using useless characters for filler': 6,\n",
       " 'oscar (best music - original score)': 6,\n",
       " 'give me back my son!': 5,\n",
       " 'r:disturbing violent content including rape': 5}"
      ]
     },
     "execution_count": 11,
     "metadata": {},
     "output_type": "execute_result"
    }
   ],
   "source": [
    "%timeit -r 10 tags.most_words(10)\n",
    "tags.most_words(10)"
   ]
  },
  {
   "cell_type": "markdown",
   "id": "1d700f73",
   "metadata": {},
   "source": [
    "### def longest():\n",
    "- теги наибольшей длины."
   ]
  },
  {
   "cell_type": "code",
   "execution_count": 12,
   "id": "bf486d8f",
   "metadata": {},
   "outputs": [
    {
     "name": "stdout",
     "output_type": "stream",
     "text": [
      "518 μs ± 11.4 μs per loop (mean ± std. dev. of 10 runs, 1,000 loops each)\n"
     ]
    },
    {
     "data": {
      "text/plain": [
       "['something for everyone in this one... saw it without and plan on seeing it with kids!',\n",
       " 'the catholic church is the most corrupt organization in history',\n",
       " 'villain nonexistent or not needed for good story',\n",
       " 'r:disturbing violent content including rape',\n",
       " '06 oscar nominated best movie - animation',\n",
       " 'stop using useless characters for filler',\n",
       " 'academy award (best supporting actress)',\n",
       " 'oscar (best effects - visual effects)',\n",
       " 'it was melodramatic and kind of dumb',\n",
       " 'audience intelligence underestimated']"
      ]
     },
     "execution_count": 12,
     "metadata": {},
     "output_type": "execute_result"
    }
   ],
   "source": [
    "%timeit -r 10 tags.longest(10)\n",
    "tags.longest(10)"
   ]
  },
  {
   "cell_type": "markdown",
   "id": "68917ac1",
   "metadata": {},
   "source": [
    "### def most_words_and_longest():\n",
    "- пересечение тегов с наибольшим количеством слови и тегов наибольшей длины."
   ]
  },
  {
   "cell_type": "code",
   "execution_count": 13,
   "id": "252343c2",
   "metadata": {},
   "outputs": [
    {
     "name": "stdout",
     "output_type": "stream",
     "text": [
      "1.61 ms ± 70.1 μs per loop (mean ± std. dev. of 10 runs, 1,000 loops each)\n"
     ]
    },
    {
     "data": {
      "text/plain": [
       "['stop using useless characters for filler',\n",
       " '06 oscar nominated best movie - animation',\n",
       " 'villain nonexistent or not needed for good story',\n",
       " 'the catholic church is the most corrupt organization in history',\n",
       " 'it was melodramatic and kind of dumb',\n",
       " 'something for everyone in this one... saw it without and plan on seeing it with kids!',\n",
       " 'r:disturbing violent content including rape',\n",
       " 'oscar (best effects - visual effects)']"
      ]
     },
     "execution_count": 13,
     "metadata": {},
     "output_type": "execute_result"
    }
   ],
   "source": [
    "%timeit -r 10 tags.most_words_and_longest(10)\n",
    "tags.most_words_and_longest(10)"
   ]
  },
  {
   "cell_type": "markdown",
   "id": "c8c9adfc",
   "metadata": {},
   "source": [
    "### def most_popular():\n",
    "- наиболее популярные теги."
   ]
  },
  {
   "cell_type": "code",
   "execution_count": 14,
   "id": "af20475e",
   "metadata": {},
   "outputs": [
    {
     "name": "stdout",
     "output_type": "stream",
     "text": [
      "580 μs ± 12.6 μs per loop (mean ± std. dev. of 10 runs, 1,000 loops each)\n"
     ]
    },
    {
     "data": {
      "text/plain": [
       "{'in netflix queue': 131,\n",
       " 'atmospheric': 41,\n",
       " 'funny': 24,\n",
       " 'superhero': 24,\n",
       " 'surreal': 24,\n",
       " 'thought-provoking': 24,\n",
       " 'sci-fi': 23,\n",
       " 'disney': 23,\n",
       " 'quirky': 22,\n",
       " 'religion': 22}"
      ]
     },
     "execution_count": 14,
     "metadata": {},
     "output_type": "execute_result"
    }
   ],
   "source": [
    "%timeit -r 10 tags.most_popular(10)\n",
    "tags.most_popular(10)"
   ]
  },
  {
   "cell_type": "markdown",
   "id": "490b95cd",
   "metadata": {},
   "source": [
    "### def tags_with():\n",
    "- поиск тегов по слову."
   ]
  },
  {
   "cell_type": "code",
   "execution_count": 15,
   "id": "233e7258",
   "metadata": {},
   "outputs": [
    {
     "name": "stdout",
     "output_type": "stream",
     "text": [
      "429 μs ± 5.95 μs per loop (mean ± std. dev. of 10 runs, 1,000 loops each)\n"
     ]
    },
    {
     "data": {
      "text/plain": [
       "['in netflix queue', 'no dvd at netflix', 'not available from netflix']"
      ]
     },
     "execution_count": 15,
     "metadata": {},
     "output_type": "execute_result"
    }
   ],
   "source": [
    "%timeit -r 10 tags.tags_with(\"Netflix\")\n",
    "tags.tags_with(\"Netflix\")"
   ]
  },
  {
   "cell_type": "markdown",
   "id": "8542eb99",
   "metadata": {},
   "source": [
    "### def most_popular_by_years():\n",
    "Bonus part\n",
    "- позволяет увидеть наиболее популярные теги по годам."
   ]
  },
  {
   "cell_type": "code",
   "execution_count": 16,
   "id": "3cbd5dec",
   "metadata": {},
   "outputs": [
    {
     "name": "stdout",
     "output_type": "stream",
     "text": [
      "1.61 ms ± 51.4 μs per loop (mean ± std. dev. of 10 runs, 1,000 loops each)\n"
     ]
    },
    {
     "data": {
      "text/plain": [
       "{2018: {'atmospheric': 23, 'quirky': 16, 'visually appealing': 16},\n",
       " 2017: {'imdb top 250': 5, 'crime': 4, 'quirky': 4},\n",
       " 2016: {'sci-fi': 10, 'suspense': 10, 'twist ending': 9},\n",
       " 2015: {'funny': 4, 'action': 4, 'suspense': 4},\n",
       " 2014: {'reciprocal spectator': 2, 'romantic comedy': 1, 'wedding': 1},\n",
       " 2013: {'dark comedy': 2, 'afghanistan': 1, 'american propaganda': 1},\n",
       " 2012: {'leonardo dicaprio': 2, 'twist ending': 2, 'christian bale': 2},\n",
       " 2011: {'documentary': 1, 'american idolatry': 1, 'atmospheric': 1},\n",
       " 2010: {'sci-fi': 5, 'dark comedy': 3, 'sequel': 3},\n",
       " 2009: {'animation': 4, 'atmospheric': 4, 'imdb top 250': 4}}"
      ]
     },
     "execution_count": 16,
     "metadata": {},
     "output_type": "execute_result"
    }
   ],
   "source": [
    "%timeit -r 10 tags.most_popular_by_years(10, 3)\n",
    "tags.most_popular_by_years(10, 3)"
   ]
  },
  {
   "cell_type": "markdown",
   "id": "b53b6cd3",
   "metadata": {},
   "source": [
    "### def tags_with_by_years():\n",
    "Bonus part\n",
    "- позволяет увидеть популярность определенных тегов / актеров по годам."
   ]
  },
  {
   "cell_type": "code",
   "execution_count": 17,
   "id": "ce3db5be",
   "metadata": {},
   "outputs": [
    {
     "name": "stdout",
     "output_type": "stream",
     "text": [
      "427 μs ± 14.3 μs per loop (mean ± std. dev. of 10 runs, 1,000 loops each)\n",
      "2018: {'black comedy': 9, 'comedy': 9, 'dark comedy': 7, 'off-beat comedy': 2, 'avant-garde romantic comedy': 1}\n",
      "2017: {'dark comedy': 3, 'black comedy': 2, 'comedy': 2, 'off-beat comedy': 1}\n",
      "2016: {'dark comedy': 4, 'comedy': 4, 'british comedy': 1, 'black comedy': 1}\n",
      "2015: {'comedy': 1}\n",
      "2014: {'romantic comedy': 1}\n",
      "2013: {'dark comedy': 2, 'comedy': 1}\n",
      "2010: {'dark comedy': 3, 'black comedy': 1, 'comedy': 1}\n",
      "2009: {'british comedy': 1, 'black comedy': 1, 'dark comedy': 1, 'best comedy': 1}\n",
      "2008: {'dark comedy': 1}\n",
      "2007: {'comedy': 1}\n",
      "2006: {'stand-up comedy': 1, 'british comedy': 1}\n",
      "\n",
      "2016: {'christian bale': 1}\n",
      "2012: {'christian bale': 2}\n",
      "2010: {'christian bale': 1}\n"
     ]
    },
    {
     "data": {
      "text/plain": [
       "{2018: {'leonardo dicaprio': 2, 'leonardo dicarpio': 1},\n",
       " 2016: {'leonardo dicaprio': 4},\n",
       " 2015: {'leonardo dicaprio': 2},\n",
       " 2012: {'leonardo dicaprio': 2}}"
      ]
     },
     "execution_count": 17,
     "metadata": {},
     "output_type": "execute_result"
    }
   ],
   "source": [
    "%timeit -r 10 tags.tags_with_by_years(\"comedy\")\n",
    "comedy_by_years = tags.tags_with_by_years(\"comedy\")\n",
    "for key, value in comedy_by_years.items():\n",
    "    print(f\"{key}: {value}\")\n",
    "print()\n",
    "    \n",
    "bale_by_years = tags.tags_with_by_years(\"bale\")\n",
    "for key, value in bale_by_years.items():\n",
    "    print(f\"{key}: {value}\")\n",
    "\n",
    "tags.tags_with_by_years(\"leonardo\")"
   ]
  },
  {
   "cell_type": "markdown",
   "id": "add95559",
   "metadata": {},
   "source": [
    "## class Movies:"
   ]
  },
  {
   "cell_type": "markdown",
   "id": "ada77311",
   "metadata": {},
   "source": [
    "### def dist_by_release():\n",
    "- количество выпущенных фильмов по годам."
   ]
  },
  {
   "cell_type": "code",
   "execution_count": 19,
   "id": "65f81759",
   "metadata": {},
   "outputs": [
    {
     "name": "stdout",
     "output_type": "stream",
     "text": [
      "252 ns ± 3.73 ns per loop (mean ± std. dev. of 10 runs, 1,000,000 loops each)\n"
     ]
    },
    {
     "data": {
      "text/plain": [
       "{'2002': 311,\n",
       " '2006': 295,\n",
       " '2001': 294,\n",
       " '2000': 283,\n",
       " '2007': 282,\n",
       " '2009': 282,\n",
       " '2003': 279,\n",
       " '2004': 279,\n",
       " '2014': 277,\n",
       " '1996': 276,\n",
       " '2015': 274,\n",
       " '2005': 273,\n",
       " '2008': 268,\n",
       " '1999': 262,\n",
       " '1997': 260,\n",
       " '1995': 258,\n",
       " '1998': 257,\n",
       " '2011': 252,\n",
       " '2010': 247,\n",
       " '2013': 239,\n",
       " '1994': 237,\n",
       " '2012': 232,\n",
       " '2016': 218,\n",
       " '1993': 198,\n",
       " '1992': 167,\n",
       " '1988': 165,\n",
       " '1987': 153,\n",
       " '1990': 147,\n",
       " '1991': 147,\n",
       " '2017': 147,\n",
       " '1989': 142,\n",
       " '1986': 139,\n",
       " '1985': 126,\n",
       " '1984': 101,\n",
       " '1981': 92,\n",
       " '1980': 89,\n",
       " '1982': 87,\n",
       " '1983': 83,\n",
       " '1979': 69,\n",
       " '1977': 63,\n",
       " '1978': 59,\n",
       " '1973': 58,\n",
       " '1965': 47,\n",
       " '1971': 47,\n",
       " '1974': 45,\n",
       " '1976': 44,\n",
       " '1964': 43,\n",
       " '1967': 42,\n",
       " '1968': 42,\n",
       " '1975': 42,\n",
       " '1966': 42,\n",
       " '2018': 41,\n",
       " '1962': 40,\n",
       " '1972': 39,\n",
       " '1963': 39,\n",
       " '1959': 37,\n",
       " '1960': 37,\n",
       " '1955': 36,\n",
       " '1969': 35,\n",
       " '1961': 34,\n",
       " '1970': 33,\n",
       " '1957': 33,\n",
       " '1958': 31,\n",
       " '1953': 30,\n",
       " '1956': 30,\n",
       " '1940': 25,\n",
       " '1949': 25,\n",
       " '1954': 23,\n",
       " '1942': 23,\n",
       " '1939': 23,\n",
       " '1946': 23,\n",
       " '1951': 22,\n",
       " '1950': 21,\n",
       " '1947': 20,\n",
       " '1948': 20,\n",
       " '1941': 18,\n",
       " '1936': 18,\n",
       " '1945': 17,\n",
       " '1937': 16,\n",
       " '1952': 16,\n",
       " '1944': 16,\n",
       " '1938': 15,\n",
       " '1931': 14,\n",
       " '1935': 13,\n",
       " '1933': 12,\n",
       " '1934': 11,\n",
       " '1943': 10,\n",
       " '1932': 9,\n",
       " '1927': 7,\n",
       " '1930': 5,\n",
       " '1926': 5,\n",
       " '1924': 5,\n",
       " '1929': 4,\n",
       " '1928': 4,\n",
       " '1925': 4,\n",
       " '1923': 4,\n",
       " '1916': 4,\n",
       " '1920': 2,\n",
       " '2007 ': 2,\n",
       " '2011 ': 2,\n",
       " '1922': 1,\n",
       " '1919': 1,\n",
       " '1921': 1,\n",
       " '1915': 1,\n",
       " '1917': 1,\n",
       " '1999 ': 1,\n",
       " '1902': 1,\n",
       " '1903': 1,\n",
       " '2008 ': 1,\n",
       " '1998 ': 1,\n",
       " '1995 ': 1,\n",
       " '2012 ': 1,\n",
       " '1973 ': 1,\n",
       " '2014 ': 1,\n",
       " '1908': 1,\n",
       " '2006–2007': 1}"
      ]
     },
     "execution_count": 19,
     "metadata": {},
     "output_type": "execute_result"
    }
   ],
   "source": [
    "%timeit -r 10 movies.dist_by_release()\n",
    "movies.dist_by_release()"
   ]
  },
  {
   "cell_type": "markdown",
   "id": "1af85d12",
   "metadata": {},
   "source": [
    "### def dist_by_genres():\n",
    "- наиболее популярные жанры фильмов."
   ]
  },
  {
   "cell_type": "code",
   "execution_count": 20,
   "id": "3aa9e4eb",
   "metadata": {},
   "outputs": [
    {
     "name": "stdout",
     "output_type": "stream",
     "text": [
      "251 ns ± 4.19 ns per loop (mean ± std. dev. of 10 runs, 1,000,000 loops each)\n"
     ]
    },
    {
     "data": {
      "text/plain": [
       "{'Drama': 4359,\n",
       " 'Comedy': 3756,\n",
       " 'Thriller': 1892,\n",
       " 'Action': 1827,\n",
       " 'Romance': 1596,\n",
       " 'Adventure': 1263,\n",
       " 'Crime': 1199,\n",
       " 'Horror': 978,\n",
       " 'Sci-Fi': 978,\n",
       " 'Fantasy': 779,\n",
       " 'Children': 664,\n",
       " 'Animation': 611,\n",
       " 'Mystery': 573,\n",
       " 'Documentary': 440,\n",
       " 'War': 382,\n",
       " 'Musical': 334,\n",
       " 'Western': 167,\n",
       " 'IMAX': 158,\n",
       " 'Film-Noir': 87}"
      ]
     },
     "execution_count": 20,
     "metadata": {},
     "output_type": "execute_result"
    }
   ],
   "source": [
    "%timeit -r 10 movies.dist_by_genres()\n",
    "movies.dist_by_genres()"
   ]
  },
  {
   "cell_type": "markdown",
   "id": "2aec8247",
   "metadata": {},
   "source": [
    "### def most_genres():\n",
    "- топ фильмов по количеству жанров - неоднозначные фильмы."
   ]
  },
  {
   "cell_type": "code",
   "execution_count": 21,
   "id": "5b60ec1d",
   "metadata": {},
   "outputs": [
    {
     "name": "stdout",
     "output_type": "stream",
     "text": [
      "1.58 μs ± 391 ns per loop (mean ± std. dev. of 10 runs, 1,000,000 loops each)\n"
     ]
    },
    {
     "data": {
      "text/plain": [
       "{'Rubber': 10,\n",
       " 'Patlabor: The Movie (Kidô keisatsu patorebâ: The Movie)': 8,\n",
       " 'Mulan': 7,\n",
       " 'Who Framed Roger Rabbit?': 7,\n",
       " 'Osmosis Jones': 7,\n",
       " 'Interstate 60': 7,\n",
       " 'Robots': 7,\n",
       " 'Pulse': 7,\n",
       " 'Aqua Teen Hunger Force Colon Movie Film for Theaters': 7,\n",
       " 'Enchanted': 7}"
      ]
     },
     "execution_count": 21,
     "metadata": {},
     "output_type": "execute_result"
    }
   ],
   "source": [
    "%timeit -r 10 movies.most_genres(10)\n",
    "movies.most_genres(10)"
   ]
  },
  {
   "cell_type": "markdown",
   "id": "f95d2c1a",
   "metadata": {},
   "source": [
    "## class Links:"
   ]
  },
  {
   "cell_type": "markdown",
   "id": "e2a4bee1",
   "metadata": {},
   "source": [
    "### def top_directors():\n",
    "- топ режиссеров по количеству снятых фильмов."
   ]
  },
  {
   "cell_type": "code",
   "execution_count": 22,
   "id": "803bc48b",
   "metadata": {},
   "outputs": [
    {
     "name": "stdout",
     "output_type": "stream",
     "text": [
      "12 μs ± 2.92 μs per loop (mean ± std. dev. of 10 runs, 100,000 loops each)\n"
     ]
    },
    {
     "data": {
      "text/plain": [
       "{'Ang Lee': 1,\n",
       " 'Martin Scorsese': 1,\n",
       " 'Renny Harlin': 1,\n",
       " 'Oliver Stone': 1,\n",
       " 'Mel Brooks': 1,\n",
       " 'Rob Reiner': 1,\n",
       " 'Martin Campbell': 1,\n",
       " 'Peter Hyams': 1,\n",
       " 'Sydney Pollack': 1,\n",
       " 'Michael Mann': 1}"
      ]
     },
     "execution_count": 22,
     "metadata": {},
     "output_type": "execute_result"
    }
   ],
   "source": [
    "%timeit -r 10 links.top_directors(10)\n",
    "links.top_directors(10)"
   ]
  },
  {
   "cell_type": "markdown",
   "id": "5c17d5d8",
   "metadata": {},
   "source": [
    "### def most_expensive():\n",
    "- топ самых дорогих в производстве фильмов."
   ]
  },
  {
   "cell_type": "code",
   "execution_count": 23,
   "id": "6114fcd7",
   "metadata": {},
   "outputs": [
    {
     "name": "stdout",
     "output_type": "stream",
     "text": [
      "988 ns ± 23.1 ns per loop (mean ± std. dev. of 10 runs, 1,000,000 loops each)\n"
     ]
    },
    {
     "data": {
      "text/plain": [
       "{'Cutthroat Island': 98000000,\n",
       " 'Jumanji': 65000000,\n",
       " 'American President, The': 62000000,\n",
       " 'Heat': 60000000,\n",
       " 'GoldenEye': 60000000,\n",
       " 'Sabrina': 58000000,\n",
       " 'Casino': 52000000,\n",
       " 'Nixon': 44000000,\n",
       " 'Sudden Death': 35000000,\n",
       " 'Toy Story': 30000000}"
      ]
     },
     "execution_count": 23,
     "metadata": {},
     "output_type": "execute_result"
    }
   ],
   "source": [
    "%timeit -r 10 links.most_expensive(10)\n",
    "links.most_expensive(10)"
   ]
  },
  {
   "cell_type": "markdown",
   "id": "ad97e20a",
   "metadata": {},
   "source": [
    "### def most_profitable():\n",
    "- топ фильмов по прибыли."
   ]
  },
  {
   "cell_type": "code",
   "execution_count": 24,
   "id": "d20a63e1",
   "metadata": {},
   "outputs": [
    {
     "name": "stdout",
     "output_type": "stream",
     "text": [
      "982 ns ± 54.4 ns per loop (mean ± std. dev. of 10 runs, 1,000,000 loops each)\n"
     ]
    },
    {
     "data": {
      "text/plain": [
       "{'Toy Story': 364436586,\n",
       " 'GoldenEye': 292194034,\n",
       " 'Jumanji': 197821940,\n",
       " 'Heat': 127436818,\n",
       " 'Sense and Sensibility': 118582776,\n",
       " 'Waiting to Exhale': 65452156,\n",
       " 'Casino': 64112375,\n",
       " 'Father of the Bride Part II': 46594107,\n",
       " 'Grumpier Old Men': 46518503,\n",
       " 'American President, The': 45879496}"
      ]
     },
     "execution_count": 24,
     "metadata": {},
     "output_type": "execute_result"
    }
   ],
   "source": [
    "%timeit -r 10 links.most_profitable(10)\n",
    "links.most_profitable(10)"
   ]
  },
  {
   "cell_type": "markdown",
   "id": "8ffe1452",
   "metadata": {},
   "source": [
    "### def longest():\n",
    "- топ самых длинных фильмов."
   ]
  },
  {
   "cell_type": "code",
   "execution_count": 25,
   "id": "840f9dfd",
   "metadata": {},
   "outputs": [
    {
     "name": "stdout",
     "output_type": "stream",
     "text": [
      "978 ns ± 20.4 ns per loop (mean ± std. dev. of 10 runs, 1,000,000 loops each)\n"
     ]
    },
    {
     "data": {
      "text/plain": [
       "{'Nixon': 192,\n",
       " 'Casino': 178,\n",
       " 'Heat': 170,\n",
       " 'Sense and Sensibility': 136,\n",
       " 'GoldenEye': 130,\n",
       " 'Sabrina': 127,\n",
       " 'Waiting to Exhale': 124,\n",
       " 'Cutthroat Island': 124,\n",
       " 'American President, The': 114,\n",
       " 'Sudden Death': 111}"
      ]
     },
     "execution_count": 25,
     "metadata": {},
     "output_type": "execute_result"
    }
   ],
   "source": [
    "%timeit -r 10 links.longest(10)\n",
    "links.longest(10)"
   ]
  },
  {
   "cell_type": "markdown",
   "id": "7b2a73f5",
   "metadata": {},
   "source": [
    "### def top_cost_per_minute():\n",
    "- топ самых дорогих в производстве фильмов по стоимости 1 минуты."
   ]
  },
  {
   "cell_type": "code",
   "execution_count": 26,
   "id": "312cd357",
   "metadata": {},
   "outputs": [
    {
     "name": "stdout",
     "output_type": "stream",
     "text": [
      "1.01 μs ± 101 ns per loop (mean ± std. dev. of 10 runs, 1,000,000 loops each)\n"
     ]
    },
    {
     "data": {
      "text/plain": [
       "{'Cutthroat Island': 790322.58,\n",
       " 'Jumanji': 625000.0,\n",
       " 'American President, The': 543859.65,\n",
       " 'GoldenEye': 461538.46,\n",
       " 'Sabrina': 456692.91,\n",
       " 'Toy Story': 370370.37,\n",
       " 'Heat': 352941.18,\n",
       " 'Dracula: Dead and Loving It': 340909.09,\n",
       " 'Sudden Death': 315315.32,\n",
       " 'Casino': 292134.83}"
      ]
     },
     "execution_count": 26,
     "metadata": {},
     "output_type": "execute_result"
    }
   ],
   "source": [
    "%timeit -r 10 links.top_cost_per_minute(10)\n",
    "links.top_cost_per_minute(10)"
   ]
  }
 ],
 "metadata": {
  "kernelspec": {
   "display_name": "Python 3",
   "language": "python",
   "name": "python3"
  },
  "language_info": {
   "codemirror_mode": {
    "name": "ipython",
    "version": 3
   },
   "file_extension": ".py",
   "mimetype": "text/x-python",
   "name": "python",
   "nbconvert_exporter": "python",
   "pygments_lexer": "ipython3",
   "version": "3.12.3"
  }
 },
 "nbformat": 4,
 "nbformat_minor": 5
}
